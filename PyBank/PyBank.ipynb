{
 "cells": [
  {
   "cell_type": "code",
   "execution_count": 7,
   "id": "a1f94a97-a46e-4e8f-95b4-8049f5822b69",
   "metadata": {},
   "outputs": [],
   "source": [
    "# loading libraries \n",
    "import csv\n",
    "from pathlib import Path "
   ]
  },
  {
   "cell_type": "code",
   "execution_count": 8,
   "id": "eb5da4ca-c31f-49da-bf26-6641fa0fd5db",
   "metadata": {},
   "outputs": [],
   "source": [
    "# load and output\n",
    "load_file = Path(\"Resources/budget_data.csv\")\n",
    "output_file= Path(\"output.txt\")"
   ]
  },
  {
   "cell_type": "code",
   "execution_count": 9,
   "id": "b1a263c7-4cd3-44ce-8e23-3a0514bf650f",
   "metadata": {},
   "outputs": [],
   "source": [
    "# naming parameters\n",
    "total_months = 0\n",
    "month_change = []\n",
    "net_change_list = []\n",
    "greatest_increase = [\"\",0]\n",
    "greatest_decrease = [\"\",999999999999]\n",
    "total_net = 0"
   ]
  },
  {
   "cell_type": "code",
   "execution_count": 10,
   "id": "ab7ffc9e-d01b-4e8d-b2f7-90f0d3a79b65",
   "metadata": {},
   "outputs": [],
   "source": [
    "# read csv\n",
    "with open(load_file) as financialdata:\n",
    "    reader = csv.reader(financialdata)\n",
    "    \n",
    "    header = next(reader)\n",
    "    \n",
    "    # get values\n",
    "    first_row = next(reader)\n",
    "    total_months = total_months + 1\n",
    "    total_net = total_net + int(first_row[1])\n",
    "    prev_net = int(first_row[1])\n",
    "    \n",
    "    for row in reader:\n",
    "        #track the total\n",
    "        total_months = total_months + 1\n",
    "        total_net = total_net + int(row[1])\n",
    "    \n",
    "        net_change = int(row[1]) - prev_net\n",
    "        prev_net = int(row[1])\n",
    "        net_change_list  = net_change_list + [net_change]\n",
    "        month_change = month_change + [row[0]]\n",
    "        \n",
    "    # Calculate the greatest increase\n",
    "        if net_change > greatest_increase[1]:\n",
    "            greatest_increase[0] = row[0]\n",
    "            greatest_increase[1] = net_change\n",
    "            \n",
    "    # Calculate the greatest decrease\n",
    "        if net_change < greatest_decrease[1]:\n",
    "            greatest_decrease[0] = row[0]\n",
    "            greatest_decrease[1] = net_change\n",
    "            \n",
    "    "
   ]
  },
  {
   "cell_type": "code",
   "execution_count": 11,
   "id": "b44eada4-ebdf-4380-8602-90e1f5c104bd",
   "metadata": {},
   "outputs": [],
   "source": [
    "# Calculate the Average Net Change\n",
    "net_monthly_avg = round(sum(net_change_list) / len(net_change_list),2)"
   ]
  },
  {
   "cell_type": "code",
   "execution_count": 12,
   "id": "9370efd7-7b48-4292-a7c9-5887b32fa977",
   "metadata": {},
   "outputs": [],
   "source": [
    "# Export the results to text file\n",
    "with open(output_file, \"w\") as txt_file:\n",
    "    txt_file.write(f\"Financial Analysis\\n\")\n",
    "    txt_file.write(f\"----------------------------\\n\")\n",
    "    txt_file.write(f\"Total Months: {total_months}\\n\")\n",
    "    txt_file.write(f\"Total: ${total_net}\\n\")\n",
    "    txt_file.write(f\"Average  Change: ${net_monthly_avg}\\n\")\n",
    "    txt_file.write(f\"Greatest Increase in Profits: {greatest_increase[0]} (${greatest_increase[1]})\\n\")\n",
    "    txt_file.write(f\"Greatest Decrease in Profits: {greatest_decrease[0]} (${greatest_decrease[1]})\\n\")"
   ]
  },
  {
   "cell_type": "code",
   "execution_count": 13,
   "id": "ddb9f1cb-7807-4162-8ea1-b5fa66c9fc73",
   "metadata": {},
   "outputs": [
    {
     "name": "stdout",
     "output_type": "stream",
     "text": [
      "Financial Analysis\n",
      "\n"
     ]
    }
   ],
   "source": [
    "print(f\"Financial Analysis\\n\")"
   ]
  },
  {
   "cell_type": "code",
   "execution_count": 16,
   "id": "e122e2e9-88a1-4a64-bcf8-60760492b508",
   "metadata": {},
   "outputs": [
    {
     "name": "stdout",
     "output_type": "stream",
     "text": [
      "Total Months: 86\n"
     ]
    }
   ],
   "source": [
    "print(f\"Total Months: {total_months}\")"
   ]
  },
  {
   "cell_type": "code",
   "execution_count": 15,
   "id": "c268b25b-4f74-4a6b-8802-bb394e98716a",
   "metadata": {},
   "outputs": [
    {
     "name": "stdout",
     "output_type": "stream",
     "text": [
      "86\n"
     ]
    }
   ],
   "source": [
    "print(total_months)"
   ]
  },
  {
   "cell_type": "code",
   "execution_count": null,
   "id": "6d50ce19-2f16-426e-8f36-99244aa12585",
   "metadata": {},
   "outputs": [],
   "source": []
  }
 ],
 "metadata": {
  "kernelspec": {
   "display_name": "Python 3 (ipykernel)",
   "language": "python",
   "name": "python3"
  },
  "language_info": {
   "codemirror_mode": {
    "name": "ipython",
    "version": 3
   },
   "file_extension": ".py",
   "mimetype": "text/x-python",
   "name": "python",
   "nbconvert_exporter": "python",
   "pygments_lexer": "ipython3",
   "version": "3.9.7"
  }
 },
 "nbformat": 4,
 "nbformat_minor": 5
}
